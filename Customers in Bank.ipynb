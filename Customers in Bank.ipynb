{
 "cells": [
  {
   "cell_type": "markdown",
   "metadata": {},
   "source": [
    "# Artificial Neural Network"
   ]
  },
  {
   "cell_type": "markdown",
   "metadata": {},
   "source": [
    "## Importing Libraries"
   ]
  },
  {
   "cell_type": "code",
   "execution_count": 4,
   "metadata": {},
   "outputs": [],
   "source": [
    "import numpy as np\n",
    "import pandas as pd\n",
    "import tensorflow as tf\n"
   ]
  },
  {
   "cell_type": "code",
   "execution_count": 5,
   "metadata": {},
   "outputs": [
    {
     "data": {
      "text/plain": [
       "'2.1.0'"
      ]
     },
     "execution_count": 5,
     "metadata": {},
     "output_type": "execute_result"
    }
   ],
   "source": [
    "tf.__version__"
   ]
  },
  {
   "cell_type": "markdown",
   "metadata": {},
   "source": [
    "### Part 1 Data Preprocessing"
   ]
  },
  {
   "cell_type": "markdown",
   "metadata": {},
   "source": [
    "Importing the dataset"
   ]
  },
  {
   "cell_type": "code",
   "execution_count": 6,
   "metadata": {},
   "outputs": [],
   "source": [
    "dataset = pd.read_csv(\"Churn_Modelling.csv\")\n",
    "x = dataset.iloc[:, 3:-1].values\n",
    "y = dataset.iloc[:,-1].values"
   ]
  },
  {
   "cell_type": "code",
   "execution_count": 7,
   "metadata": {},
   "outputs": [
    {
     "name": "stdout",
     "output_type": "stream",
     "text": [
      "[[619 'France' 'Female' ... 1 1 101348.88]\n",
      " [608 'Spain' 'Female' ... 0 1 112542.58]\n",
      " [502 'France' 'Female' ... 1 0 113931.57]\n",
      " ...\n",
      " [709 'France' 'Female' ... 0 1 42085.58]\n",
      " [772 'Germany' 'Male' ... 1 0 92888.52]\n",
      " [792 'France' 'Female' ... 1 0 38190.78]]\n"
     ]
    }
   ],
   "source": [
    "print(x)"
   ]
  },
  {
   "cell_type": "code",
   "execution_count": 8,
   "metadata": {},
   "outputs": [
    {
     "name": "stdout",
     "output_type": "stream",
     "text": [
      "[1 0 1 ... 1 1 0]\n"
     ]
    }
   ],
   "source": [
    "print(y)"
   ]
  },
  {
   "cell_type": "markdown",
   "metadata": {},
   "source": [
    "Encoding categorical data"
   ]
  },
  {
   "cell_type": "markdown",
   "metadata": {},
   "source": [
    "Label encoding of Gender column"
   ]
  },
  {
   "cell_type": "code",
   "execution_count": 9,
   "metadata": {},
   "outputs": [],
   "source": [
    "from sklearn.preprocessing import LabelEncoder\n",
    "le = LabelEncoder()\n",
    "x[:, 2] = le.fit_transform(x[:, 2])"
   ]
  },
  {
   "cell_type": "code",
   "execution_count": 10,
   "metadata": {},
   "outputs": [
    {
     "name": "stdout",
     "output_type": "stream",
     "text": [
      "[[619 'France' 0 ... 1 1 101348.88]\n",
      " [608 'Spain' 0 ... 0 1 112542.58]\n",
      " [502 'France' 0 ... 1 0 113931.57]\n",
      " ...\n",
      " [709 'France' 0 ... 0 1 42085.58]\n",
      " [772 'Germany' 1 ... 1 0 92888.52]\n",
      " [792 'France' 0 ... 1 0 38190.78]]\n"
     ]
    }
   ],
   "source": [
    "print(x)"
   ]
  },
  {
   "cell_type": "markdown",
   "metadata": {},
   "source": [
    "One Hot Encoding the Georgraphy column"
   ]
  },
  {
   "cell_type": "code",
   "execution_count": 12,
   "metadata": {},
   "outputs": [],
   "source": [
    "from sklearn.compose import ColumnTransformer\n",
    "from sklearn.preprocessing import OneHotEncoder\n",
    "ct = ColumnTransformer(transformers= [('encoder',OneHotEncoder(),[1])],remainder = 'passthrough')\n",
    "x = np.array(ct.fit_transform(x))"
   ]
  },
  {
   "cell_type": "code",
   "execution_count": 13,
   "metadata": {},
   "outputs": [
    {
     "name": "stdout",
     "output_type": "stream",
     "text": [
      "[[1.0 0.0 0.0 ... 1 1 101348.88]\n",
      " [0.0 0.0 1.0 ... 0 1 112542.58]\n",
      " [1.0 0.0 0.0 ... 1 0 113931.57]\n",
      " ...\n",
      " [1.0 0.0 0.0 ... 0 1 42085.58]\n",
      " [0.0 1.0 0.0 ... 1 0 92888.52]\n",
      " [1.0 0.0 0.0 ... 1 0 38190.78]]\n"
     ]
    }
   ],
   "source": [
    "print(x)"
   ]
  },
  {
   "cell_type": "markdown",
   "metadata": {},
   "source": [
    "Splitting the dataset into training and test set"
   ]
  },
  {
   "cell_type": "code",
   "execution_count": 14,
   "metadata": {},
   "outputs": [],
   "source": [
    "from sklearn.model_selection import train_test_split\n",
    "x_train, x_test, y_train, y_test = train_test_split(x,y, test_size = 0.2, random_state = 0) "
   ]
  },
  {
   "cell_type": "markdown",
   "metadata": {},
   "source": [
    "## Feature Scaling"
   ]
  },
  {
   "cell_type": "code",
   "execution_count": 15,
   "metadata": {},
   "outputs": [],
   "source": [
    "from sklearn.preprocessing import StandardScaler\n",
    "sc = StandardScaler()\n",
    "x_train = sc.fit_transform(x_train)\n",
    "x_test = sc.transform(x_test)"
   ]
  },
  {
   "cell_type": "code",
   "execution_count": 16,
   "metadata": {},
   "outputs": [
    {
     "name": "stdout",
     "output_type": "stream",
     "text": [
      "[[-1.01460667 -0.5698444   1.74309049 ...  0.64259497 -1.03227043\n",
      "   1.10643166]\n",
      " [-1.01460667  1.75486502 -0.57369368 ...  0.64259497  0.9687384\n",
      "  -0.74866447]\n",
      " [ 0.98560362 -0.5698444  -0.57369368 ...  0.64259497 -1.03227043\n",
      "   1.48533467]\n",
      " ...\n",
      " [ 0.98560362 -0.5698444  -0.57369368 ...  0.64259497 -1.03227043\n",
      "   1.41231994]\n",
      " [-1.01460667 -0.5698444   1.74309049 ...  0.64259497  0.9687384\n",
      "   0.84432121]\n",
      " [-1.01460667  1.75486502 -0.57369368 ...  0.64259497 -1.03227043\n",
      "   0.32472465]]\n"
     ]
    }
   ],
   "source": [
    "print(x_train)"
   ]
  },
  {
   "cell_type": "markdown",
   "metadata": {},
   "source": [
    "## Building the ANN"
   ]
  },
  {
   "cell_type": "markdown",
   "metadata": {},
   "source": [
    "### Initializing the ANN"
   ]
  },
  {
   "cell_type": "code",
   "execution_count": 17,
   "metadata": {},
   "outputs": [],
   "source": [
    "ann = tf.keras.models.Sequential()"
   ]
  },
  {
   "cell_type": "markdown",
   "metadata": {},
   "source": [
    "### Adding the first input layer"
   ]
  },
  {
   "cell_type": "code",
   "execution_count": 18,
   "metadata": {},
   "outputs": [],
   "source": [
    "ann.add(tf.keras.layers.Dense(units=6, activation = 'relu'))"
   ]
  },
  {
   "cell_type": "code",
   "execution_count": 20,
   "metadata": {},
   "outputs": [],
   "source": [
    "ann.add(tf.keras.la​ann.add(tf.keras.layers.Dense(units = 6,activation = 'relu'))yers.Dense(units = 6,activation = 'relu'))\n"
   ]
  },
  {
   "cell_type": "code",
   "execution_count": 21,
   "metadata": {},
   "outputs": [],
   "source": [
    "ann.add(tf.keras.layers.Dense(units=1, activation = 'sigmoid'))"
   ]
  },
  {
   "cell_type": "markdown",
   "metadata": {},
   "source": [
    "Training the ANN"
   ]
  },
  {
   "cell_type": "markdown",
   "metadata": {},
   "source": [
    "Compiling the ANN"
   ]
  },
  {
   "cell_type": "code",
   "execution_count": 25,
   "metadata": {},
   "outputs": [],
   "source": [
    "ann.compile(optimizer = 'adam' , loss = 'binary_crossentropy' , metrics = ['accuracy'])"
   ]
  },
  {
   "cell_type": "markdown",
   "metadata": {},
   "source": [
    "##Training the ANN"
   ]
  },
  {
   "cell_type": "code",
   "execution_count": 26,
   "metadata": {},
   "outputs": [
    {
     "name": "stdout",
     "output_type": "stream",
     "text": [
      "Train on 8000 samples\n",
      "Epoch 1/100\n",
      "8000/8000 [==============================] - 3s 318us/sample - loss: 0.5491 - accuracy: 0.7931\n",
      "Epoch 2/100\n",
      "8000/8000 [==============================] - 0s 44us/sample - loss: 0.4778 - accuracy: 0.7960\n",
      "Epoch 3/100\n",
      "8000/8000 [==============================] - 0s 40us/sample - loss: 0.4487 - accuracy: 0.7960\n",
      "Epoch 4/100\n",
      "8000/8000 [==============================] - 0s 46us/sample - loss: 0.4342 - accuracy: 0.7960\n",
      "Epoch 5/100\n",
      "8000/8000 [==============================] - 0s 40us/sample - loss: 0.4281 - accuracy: 0.7960\n",
      "Epoch 6/100\n",
      "8000/8000 [==============================] - 0s 51us/sample - loss: 0.4250 - accuracy: 0.7960\n",
      "Epoch 7/100\n",
      "8000/8000 [==============================] - 0s 44us/sample - loss: 0.4222 - accuracy: 0.8060\n",
      "Epoch 8/100\n",
      "8000/8000 [==============================] - 0s 41us/sample - loss: 0.4199 - accuracy: 0.8163\n",
      "Epoch 9/100\n",
      "8000/8000 [==============================] - 0s 40us/sample - loss: 0.4177 - accuracy: 0.8184\n",
      "Epoch 10/100\n",
      "8000/8000 [==============================] - 0s 59us/sample - loss: 0.4155 - accuracy: 0.8204\n",
      "Epoch 11/100\n",
      "8000/8000 [==============================] - 0s 45us/sample - loss: 0.4138 - accuracy: 0.8220\n",
      "Epoch 12/100\n",
      "8000/8000 [==============================] - 0s 50us/sample - loss: 0.4118 - accuracy: 0.8245\n",
      "Epoch 13/100\n",
      "8000/8000 [==============================] - 0s 46us/sample - loss: 0.4097 - accuracy: 0.8254\n",
      "Epoch 14/100\n",
      "8000/8000 [==============================] - 0s 40us/sample - loss: 0.4076 - accuracy: 0.8267\n",
      "Epoch 15/100\n",
      "8000/8000 [==============================] - 0s 43us/sample - loss: 0.4042 - accuracy: 0.8291\n",
      "Epoch 16/100\n",
      "8000/8000 [==============================] - 0s 38us/sample - loss: 0.3998 - accuracy: 0.8304\n",
      "Epoch 17/100\n",
      "8000/8000 [==============================] - 0s 40us/sample - loss: 0.3945 - accuracy: 0.8331\n",
      "Epoch 18/100\n",
      "8000/8000 [==============================] - 0s 42us/sample - loss: 0.3880 - accuracy: 0.8381\n",
      "Epoch 19/100\n",
      "8000/8000 [==============================] - 0s 57us/sample - loss: 0.3808 - accuracy: 0.8425\n",
      "Epoch 20/100\n",
      "8000/8000 [==============================] - 0s 56us/sample - loss: 0.3739 - accuracy: 0.8464\n",
      "Epoch 21/100\n",
      "8000/8000 [==============================] - 0s 54us/sample - loss: 0.3683 - accuracy: 0.8493\n",
      "Epoch 22/100\n",
      "8000/8000 [==============================] - 0s 44us/sample - loss: 0.3640 - accuracy: 0.8530\n",
      "Epoch 23/100\n",
      "8000/8000 [==============================] - 0s 57us/sample - loss: 0.3610 - accuracy: 0.8550\n",
      "Epoch 24/100\n",
      "8000/8000 [==============================] - 1s 86us/sample - loss: 0.3583 - accuracy: 0.8558\n",
      "Epoch 25/100\n",
      "8000/8000 [==============================] - 0s 51us/sample - loss: 0.3562 - accuracy: 0.8555\n",
      "Epoch 26/100\n",
      "8000/8000 [==============================] - 0s 44us/sample - loss: 0.3552 - accuracy: 0.8586\n",
      "Epoch 27/100\n",
      "8000/8000 [==============================] - 0s 44us/sample - loss: 0.3531 - accuracy: 0.8585\n",
      "Epoch 28/100\n",
      "8000/8000 [==============================] - 0s 39us/sample - loss: 0.3520 - accuracy: 0.8597\n",
      "Epoch 29/100\n",
      "8000/8000 [==============================] - 0s 47us/sample - loss: 0.3511 - accuracy: 0.8611\n",
      "Epoch 30/100\n",
      "8000/8000 [==============================] - 0s 52us/sample - loss: 0.3499 - accuracy: 0.8608\n",
      "Epoch 31/100\n",
      "8000/8000 [==============================] - 0s 39us/sample - loss: 0.3488 - accuracy: 0.8595\n",
      "Epoch 32/100\n",
      "8000/8000 [==============================] - 0s 42us/sample - loss: 0.3483 - accuracy: 0.8614\n",
      "Epoch 33/100\n",
      "8000/8000 [==============================] - 0s 41us/sample - loss: 0.3481 - accuracy: 0.8601\n",
      "Epoch 34/100\n",
      "8000/8000 [==============================] - 0s 44us/sample - loss: 0.3469 - accuracy: 0.8608\n",
      "Epoch 35/100\n",
      "8000/8000 [==============================] - 0s 43us/sample - loss: 0.3469 - accuracy: 0.8600\n",
      "Epoch 36/100\n",
      "8000/8000 [==============================] - 0s 59us/sample - loss: 0.3461 - accuracy: 0.8610\n",
      "Epoch 37/100\n",
      "8000/8000 [==============================] - 0s 42us/sample - loss: 0.3454 - accuracy: 0.8616\n",
      "Epoch 38/100\n",
      "8000/8000 [==============================] - 0s 43us/sample - loss: 0.3453 - accuracy: 0.8609\n",
      "Epoch 39/100\n",
      "8000/8000 [==============================] - 0s 61us/sample - loss: 0.3449 - accuracy: 0.8621\n",
      "Epoch 40/100\n",
      "8000/8000 [==============================] - 0s 52us/sample - loss: 0.3443 - accuracy: 0.8604\n",
      "Epoch 41/100\n",
      "8000/8000 [==============================] - 0s 49us/sample - loss: 0.3439 - accuracy: 0.8631\n",
      "Epoch 42/100\n",
      "8000/8000 [==============================] - 0s 52us/sample - loss: 0.3437 - accuracy: 0.8619\n",
      "Epoch 43/100\n",
      "8000/8000 [==============================] - 0s 41us/sample - loss: 0.3433 - accuracy: 0.8622\n",
      "Epoch 44/100\n",
      "8000/8000 [==============================] - 0s 40us/sample - loss: 0.3432 - accuracy: 0.8629\n",
      "Epoch 45/100\n",
      "8000/8000 [==============================] - 0s 44us/sample - loss: 0.3428 - accuracy: 0.8608\n",
      "Epoch 46/100\n",
      "8000/8000 [==============================] - 0s 43us/sample - loss: 0.3426 - accuracy: 0.8620\n",
      "Epoch 47/100\n",
      "8000/8000 [==============================] - 0s 46us/sample - loss: 0.3423 - accuracy: 0.8614\n",
      "Epoch 48/100\n",
      "8000/8000 [==============================] - 0s 62us/sample - loss: 0.3420 - accuracy: 0.8620\n",
      "Epoch 49/100\n",
      "8000/8000 [==============================] - 0s 44us/sample - loss: 0.3421 - accuracy: 0.8616\n",
      "Epoch 50/100\n",
      "8000/8000 [==============================] - 0s 47us/sample - loss: 0.3417 - accuracy: 0.8634\n",
      "Epoch 51/100\n",
      "8000/8000 [==============================] - 0s 45us/sample - loss: 0.3414 - accuracy: 0.8625\n",
      "Epoch 52/100\n",
      "8000/8000 [==============================] - 0s 45us/sample - loss: 0.3410 - accuracy: 0.8626\n",
      "Epoch 53/100\n",
      "8000/8000 [==============================] - 1s 66us/sample - loss: 0.3409 - accuracy: 0.8622\n",
      "Epoch 54/100\n",
      "8000/8000 [==============================] - 1s 71us/sample - loss: 0.3408 - accuracy: 0.8619\n",
      "Epoch 55/100\n",
      "8000/8000 [==============================] - 0s 48us/sample - loss: 0.3405 - accuracy: 0.8622\n",
      "Epoch 56/100\n",
      "8000/8000 [==============================] - 0s 50us/sample - loss: 0.3400 - accuracy: 0.8629\n",
      "Epoch 57/100\n",
      "8000/8000 [==============================] - 0s 52us/sample - loss: 0.3399 - accuracy: 0.8608\n",
      "Epoch 58/100\n",
      "8000/8000 [==============================] - 0s 62us/sample - loss: 0.3395 - accuracy: 0.8631\n",
      "Epoch 59/100\n",
      "8000/8000 [==============================] - 1s 63us/sample - loss: 0.3392 - accuracy: 0.8621\n",
      "Epoch 60/100\n",
      "8000/8000 [==============================] - 1s 77us/sample - loss: 0.3390 - accuracy: 0.8631\n",
      "Epoch 61/100\n",
      "8000/8000 [==============================] - 1s 71us/sample - loss: 0.3387 - accuracy: 0.8622\n",
      "Epoch 62/100\n",
      "8000/8000 [==============================] - 1s 70us/sample - loss: 0.3384 - accuracy: 0.8626\n",
      "Epoch 63/100\n",
      "8000/8000 [==============================] - 1s 68us/sample - loss: 0.3387 - accuracy: 0.8634\n",
      "Epoch 64/100\n",
      "8000/8000 [==============================] - 0s 54us/sample - loss: 0.3379 - accuracy: 0.8629\n",
      "Epoch 65/100\n",
      "8000/8000 [==============================] - 1s 88us/sample - loss: 0.3377 - accuracy: 0.8640\n",
      "Epoch 66/100\n",
      "8000/8000 [==============================] - 1s 85us/sample - loss: 0.3375 - accuracy: 0.8645\n",
      "Epoch 67/100\n",
      "8000/8000 [==============================] - 0s 61us/sample - loss: 0.3375 - accuracy: 0.8645\n",
      "Epoch 68/100\n",
      "8000/8000 [==============================] - 0s 61us/sample - loss: 0.3372 - accuracy: 0.8631\n",
      "Epoch 69/100\n",
      "8000/8000 [==============================] - 1s 67us/sample - loss: 0.3372 - accuracy: 0.8633\n",
      "Epoch 70/100\n",
      "8000/8000 [==============================] - 0s 59us/sample - loss: 0.3366 - accuracy: 0.8637\n",
      "Epoch 71/100\n",
      "8000/8000 [==============================] - 0s 62us/sample - loss: 0.3366 - accuracy: 0.8633\n",
      "Epoch 72/100\n",
      "8000/8000 [==============================] - 0s 50us/sample - loss: 0.3361 - accuracy: 0.8644\n",
      "Epoch 73/100\n",
      "8000/8000 [==============================] - 0s 47us/sample - loss: 0.3360 - accuracy: 0.8652\n",
      "Epoch 74/100\n",
      "8000/8000 [==============================] - 0s 49us/sample - loss: 0.3361 - accuracy: 0.8656\n",
      "Epoch 75/100\n",
      "8000/8000 [==============================] - 0s 52us/sample - loss: 0.3358 - accuracy: 0.8650\n",
      "Epoch 76/100\n",
      "8000/8000 [==============================] - 1s 106us/sample - loss: 0.3354 - accuracy: 0.8652\n",
      "Epoch 77/100\n"
     ]
    },
    {
     "name": "stdout",
     "output_type": "stream",
     "text": [
      "8000/8000 [==============================] - 0s 50us/sample - loss: 0.3359 - accuracy: 0.8655\n",
      "Epoch 78/100\n",
      "8000/8000 [==============================] - 0s 45us/sample - loss: 0.3353 - accuracy: 0.8633\n",
      "Epoch 79/100\n",
      "8000/8000 [==============================] - 0s 47us/sample - loss: 0.3353 - accuracy: 0.8636\n",
      "Epoch 80/100\n",
      "8000/8000 [==============================] - 0s 53us/sample - loss: 0.3349 - accuracy: 0.8641\n",
      "Epoch 81/100\n",
      "8000/8000 [==============================] - 0s 59us/sample - loss: 0.3353 - accuracy: 0.8639\n",
      "Epoch 82/100\n",
      "8000/8000 [==============================] - 0s 44us/sample - loss: 0.3351 - accuracy: 0.8641\n",
      "Epoch 83/100\n",
      "8000/8000 [==============================] - 0s 46us/sample - loss: 0.3350 - accuracy: 0.8635\n",
      "Epoch 84/100\n",
      "8000/8000 [==============================] - 0s 48us/sample - loss: 0.3345 - accuracy: 0.8648\n",
      "Epoch 85/100\n",
      "8000/8000 [==============================] - 0s 44us/sample - loss: 0.3350 - accuracy: 0.8652\n",
      "Epoch 86/100\n",
      "8000/8000 [==============================] - 0s 61us/sample - loss: 0.3346 - accuracy: 0.8637\n",
      "Epoch 87/100\n",
      "8000/8000 [==============================] - 0s 54us/sample - loss: 0.3348 - accuracy: 0.8652\n",
      "Epoch 88/100\n",
      "8000/8000 [==============================] - 0s 48us/sample - loss: 0.3345 - accuracy: 0.8665\n",
      "Epoch 89/100\n",
      "8000/8000 [==============================] - 1s 74us/sample - loss: 0.3347 - accuracy: 0.8651\n",
      "Epoch 90/100\n",
      "8000/8000 [==============================] - 0s 59us/sample - loss: 0.3343 - accuracy: 0.8658\n",
      "Epoch 91/100\n",
      "8000/8000 [==============================] - 1s 63us/sample - loss: 0.3343 - accuracy: 0.8651\n",
      "Epoch 92/100\n",
      "8000/8000 [==============================] - 0s 48us/sample - loss: 0.3341 - accuracy: 0.8643\n",
      "Epoch 93/100\n",
      "8000/8000 [==============================] - 0s 57us/sample - loss: 0.3343 - accuracy: 0.8661\n",
      "Epoch 94/100\n",
      "8000/8000 [==============================] - 1s 69us/sample - loss: 0.3343 - accuracy: 0.8640\n",
      "Epoch 95/100\n",
      "8000/8000 [==============================] - 1s 82us/sample - loss: 0.3344 - accuracy: 0.8656\n",
      "Epoch 96/100\n",
      "8000/8000 [==============================] - 1s 66us/sample - loss: 0.3339 - accuracy: 0.8644\n",
      "Epoch 97/100\n",
      "8000/8000 [==============================] - 0s 50us/sample - loss: 0.3339 - accuracy: 0.8651\n",
      "Epoch 98/100\n",
      "8000/8000 [==============================] - 0s 48us/sample - loss: 0.3341 - accuracy: 0.8648\n",
      "Epoch 99/100\n",
      "8000/8000 [==============================] - 0s 47us/sample - loss: 0.3337 - accuracy: 0.8662\n",
      "Epoch 100/100\n",
      "8000/8000 [==============================] - 0s 61us/sample - loss: 0.3337 - accuracy: 0.8645\n"
     ]
    },
    {
     "data": {
      "text/plain": [
       "<tensorflow.python.keras.callbacks.History at 0x1efe77c8688>"
      ]
     },
     "execution_count": 26,
     "metadata": {},
     "output_type": "execute_result"
    }
   ],
   "source": [
    "ann.fit(x_train,y_train, batch_size = 32, epochs= 100)"
   ]
  },
  {
   "cell_type": "markdown",
   "metadata": {},
   "source": [
    "Making the prediction and evaluating the model\n",
    "\n",
    "Prediecting the result of a single observation"
   ]
  },
  {
   "cell_type": "code",
   "execution_count": 28,
   "metadata": {},
   "outputs": [
    {
     "name": "stdout",
     "output_type": "stream",
     "text": [
      "[[False]]\n"
     ]
    }
   ],
   "source": [
    "print(ann.predict(sc.transform([[1, 0, 0, 600, 1, 40 , 3, 60000, 2, 1 , 1 , 50000]]))>0.5)"
   ]
  },
  {
   "cell_type": "markdown",
   "metadata": {},
   "source": [
    "Predicting the Test Results"
   ]
  },
  {
   "cell_type": "code",
   "execution_count": 29,
   "metadata": {},
   "outputs": [
    {
     "name": "stdout",
     "output_type": "stream",
     "text": [
      "[[0 0]\n",
      " [0 1]\n",
      " [0 0]\n",
      " ...\n",
      " [0 0]\n",
      " [0 0]\n",
      " [0 0]]\n"
     ]
    }
   ],
   "source": [
    "y_pred = ann.predict(x_test)\n",
    "y_pred = (y_pred >0.5)\n",
    "print(np.concatenate((y_pred.reshape(len(y_pred),1),y_test.reshape(len(y_test),1)),1))"
   ]
  },
  {
   "cell_type": "markdown",
   "metadata": {},
   "source": [
    "Making the Confusion Matrix"
   ]
  },
  {
   "cell_type": "code",
   "execution_count": 30,
   "metadata": {},
   "outputs": [
    {
     "name": "stdout",
     "output_type": "stream",
     "text": [
      "[[1510   85]\n",
      " [ 191  214]]\n"
     ]
    },
    {
     "data": {
      "text/plain": [
       "0.862"
      ]
     },
     "execution_count": 30,
     "metadata": {},
     "output_type": "execute_result"
    }
   ],
   "source": [
    "from sklearn.metrics import confusion_matrix, accuracy_score\n",
    "cm = confusion_matrix(y_test,y_pred)\n",
    "print(cm)\n",
    "accuracy_score(y_test,y_pred)"
   ]
  },
  {
   "cell_type": "code",
   "execution_count": null,
   "metadata": {},
   "outputs": [],
   "source": []
  }
 ],
 "metadata": {
  "kernelspec": {
   "display_name": "Python 3",
   "language": "python",
   "name": "python3"
  },
  "language_info": {
   "codemirror_mode": {
    "name": "ipython",
    "version": 3
   },
   "file_extension": ".py",
   "mimetype": "text/x-python",
   "name": "python",
   "nbconvert_exporter": "python",
   "pygments_lexer": "ipython3",
   "version": "3.7.4"
  }
 },
 "nbformat": 4,
 "nbformat_minor": 2
}
